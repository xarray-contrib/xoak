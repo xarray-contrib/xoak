{
 "cells": [
  {
   "cell_type": "markdown",
   "metadata": {},
   "source": [
    "# Querying for indices\n",
    "\n",
    "This notebook briefly shows how to use Xoak's `query()` method to build more complicated queries."
   ]
  },
  {
   "cell_type": "code",
   "execution_count": 1,
   "metadata": {},
   "outputs": [],
   "source": [
    "import numpy as np\n",
    "import xarray as xr\n",
    "import xoak\n",
    "\n",
    "xr.set_options(display_style='text');"
   ]
  },
  {
   "cell_type": "markdown",
   "metadata": {},
   "source": [
    "## Load example dataset"
   ]
  },
  {
   "cell_type": "code",
   "execution_count": 2,
   "metadata": {},
   "outputs": [
    {
     "data": {
      "text/html": [
       "<pre>&lt;xarray.Dataset&gt;\n",
       "Dimensions:  (lat: 25, lon: 53, time: 2920)\n",
       "Coordinates:\n",
       "  * lat      (lat) float32 75.0 72.5 70.0 67.5 65.0 ... 25.0 22.5 20.0 17.5 15.0\n",
       "  * lon      (lon) float32 200.0 202.5 205.0 207.5 ... 322.5 325.0 327.5 330.0\n",
       "  * time     (time) datetime64[ns] 2013-01-01 ... 2014-12-31T18:00:00\n",
       "    lat2d    (lat, lon) float32 75.0 75.0 75.0 75.0 75.0 ... 15.0 15.0 15.0 15.0\n",
       "    lon2d    (lat, lon) float32 200.0 202.5 205.0 207.5 ... 325.0 327.5 330.0\n",
       "Data variables:\n",
       "    air      (time, lat, lon) float32 241.2 242.5 243.5 ... 296.5 296.2 295.7\n",
       "Attributes:\n",
       "    Conventions:  COARDS\n",
       "    title:        4x daily NMC reanalysis (1948)\n",
       "    description:  Data is from NMC initialized reanalysis\\n(4x/day).  These a...\n",
       "    platform:     Model\n",
       "    references:   http://www.esrl.noaa.gov/psd/data/gridded/data.ncep.reanaly...</pre>"
      ],
      "text/plain": [
       "<xarray.Dataset>\n",
       "Dimensions:  (lat: 25, lon: 53, time: 2920)\n",
       "Coordinates:\n",
       "  * lat      (lat) float32 75.0 72.5 70.0 67.5 65.0 ... 25.0 22.5 20.0 17.5 15.0\n",
       "  * lon      (lon) float32 200.0 202.5 205.0 207.5 ... 322.5 325.0 327.5 330.0\n",
       "  * time     (time) datetime64[ns] 2013-01-01 ... 2014-12-31T18:00:00\n",
       "    lat2d    (lat, lon) float32 75.0 75.0 75.0 75.0 75.0 ... 15.0 15.0 15.0 15.0\n",
       "    lon2d    (lat, lon) float32 200.0 202.5 205.0 207.5 ... 325.0 327.5 330.0\n",
       "Data variables:\n",
       "    air      (time, lat, lon) float32 241.2 242.5 243.5 ... 296.5 296.2 295.7\n",
       "Attributes:\n",
       "    Conventions:  COARDS\n",
       "    title:        4x daily NMC reanalysis (1948)\n",
       "    description:  Data is from NMC initialized reanalysis\\n(4x/day).  These a...\n",
       "    platform:     Model\n",
       "    references:   http://www.esrl.noaa.gov/psd/data/gridded/data.ncep.reanaly..."
      ]
     },
     "metadata": {},
     "output_type": "display_data"
    }
   ],
   "source": [
    "ds = xr.tutorial.load_dataset(\"air_temperature\")\n",
    "\n",
    "# create artificial 2d coords\n",
    "ds.coords[\"lat2d\"], ds.coords[\"lon2d\"] = xr.broadcast(\n",
    "    ds.coords[\"lat\"], ds.coords[\"lon\"]\n",
    ")\n",
    "\n",
    "display(ds)"
   ]
  },
  {
   "cell_type": "code",
   "execution_count": 3,
   "metadata": {},
   "outputs": [],
   "source": [
    "ds.xoak.set_index(['lat2d', 'lon2d'], 'sklearn_geo_balltree')"
   ]
  },
  {
   "cell_type": "markdown",
   "metadata": {},
   "source": [
    "## Create trajectory dataset"
   ]
  },
  {
   "cell_type": "code",
   "execution_count": 4,
   "metadata": {},
   "outputs": [
    {
     "data": {
      "text/html": [
       "<pre>&lt;xarray.Dataset&gt;\n",
       "Dimensions:      (along_track: 23)\n",
       "Coordinates:\n",
       "  * along_track  (along_track) int64 0 1 2 3 4 5 6 7 ... 15 16 17 18 19 20 21 22\n",
       "Data variables:\n",
       "    latitude     (along_track) float64 75.0 72.27 69.55 ... 20.45 17.73 15.0\n",
       "    longitude    (along_track) float64 200.0 205.9 211.8 ... 318.2 324.1 330.0</pre>"
      ],
      "text/plain": [
       "<xarray.Dataset>\n",
       "Dimensions:      (along_track: 23)\n",
       "Coordinates:\n",
       "  * along_track  (along_track) int64 0 1 2 3 4 5 6 7 ... 15 16 17 18 19 20 21 22\n",
       "Data variables:\n",
       "    latitude     (along_track) float64 75.0 72.27 69.55 ... 20.45 17.73 15.0\n",
       "    longitude    (along_track) float64 200.0 205.9 211.8 ... 318.2 324.1 330.0"
      ]
     },
     "execution_count": 4,
     "metadata": {},
     "output_type": "execute_result"
    }
   ],
   "source": [
    "ds_trajectory = xr.Dataset(\n",
    "    {\n",
    "        'latitude': ('along_track', np.linspace(75.0, 15.0, 23)),\n",
    "        'longitude': ('along_track', np.linspace(200, 330, 23)),\n",
    "    },\n",
    "    coords={\"along_track\": (\"along_track\", np.arange(23))},\n",
    ")\n",
    "\n",
    "ds_trajectory"
   ]
  },
  {
   "cell_type": "markdown",
   "metadata": {},
   "source": [
    "## Select and check for distances to grid points"
   ]
  },
  {
   "cell_type": "code",
   "execution_count": 5,
   "metadata": {},
   "outputs": [
    {
     "data": {
      "text/html": [
       "<pre>&lt;xarray.Dataset&gt;\n",
       "Dimensions:  (along_track: 23, time: 2920)\n",
       "Coordinates:\n",
       "    lat      (along_track) float32 75.0 72.5 70.0 67.5 ... 22.5 20.0 17.5 15.0\n",
       "    lon      (along_track) float32 200.0 205.0 212.5 217.5 ... 317.5 325.0 330.0\n",
       "  * time     (time) datetime64[ns] 2013-01-01 ... 2014-12-31T18:00:00\n",
       "    lat2d    (along_track) float32 75.0 72.5 70.0 67.5 ... 22.5 20.0 17.5 15.0\n",
       "    lon2d    (along_track) float32 200.0 205.0 212.5 217.5 ... 317.5 325.0 330.0\n",
       "Dimensions without coordinates: along_track\n",
       "Data variables:\n",
       "    air      (time, along_track) float32 241.2 244.7 244.4 ... 296.7 295.7 295.7\n",
       "Attributes:\n",
       "    Conventions:  COARDS\n",
       "    title:        4x daily NMC reanalysis (1948)\n",
       "    description:  Data is from NMC initialized reanalysis\\n(4x/day).  These a...\n",
       "    platform:     Model\n",
       "    references:   http://www.esrl.noaa.gov/psd/data/gridded/data.ncep.reanaly...</pre>"
      ],
      "text/plain": [
       "<xarray.Dataset>\n",
       "Dimensions:  (along_track: 23, time: 2920)\n",
       "Coordinates:\n",
       "    lat      (along_track) float32 75.0 72.5 70.0 67.5 ... 22.5 20.0 17.5 15.0\n",
       "    lon      (along_track) float32 200.0 205.0 212.5 217.5 ... 317.5 325.0 330.0\n",
       "  * time     (time) datetime64[ns] 2013-01-01 ... 2014-12-31T18:00:00\n",
       "    lat2d    (along_track) float32 75.0 72.5 70.0 67.5 ... 22.5 20.0 17.5 15.0\n",
       "    lon2d    (along_track) float32 200.0 205.0 212.5 217.5 ... 317.5 325.0 330.0\n",
       "Dimensions without coordinates: along_track\n",
       "Data variables:\n",
       "    air      (time, along_track) float32 241.2 244.7 244.4 ... 296.7 295.7 295.7\n",
       "Attributes:\n",
       "    Conventions:  COARDS\n",
       "    title:        4x daily NMC reanalysis (1948)\n",
       "    description:  Data is from NMC initialized reanalysis\\n(4x/day).  These a...\n",
       "    platform:     Model\n",
       "    references:   http://www.esrl.noaa.gov/psd/data/gridded/data.ncep.reanaly..."
      ]
     },
     "metadata": {},
     "output_type": "display_data"
    }
   ],
   "source": [
    "# ds.xoak.sel() does the following two steps\n",
    "\n",
    "indices = ds.xoak.query(\n",
    "    lat2d=ds_trajectory.latitude,\n",
    "    lon2d=ds_trajectory.longitude,\n",
    ")\n",
    "selected = ds.isel(indices)\n",
    "\n",
    "display(selected)"
   ]
  },
  {
   "cell_type": "code",
   "execution_count": 6,
   "metadata": {},
   "outputs": [],
   "source": [
    "selected.coords[\"along_track\"] = ds_trajectory.coords[\"along_track\"]"
   ]
  },
  {
   "cell_type": "markdown",
   "metadata": {},
   "source": [
    "## We can now easily calculated the mismatch"
   ]
  },
  {
   "cell_type": "code",
   "execution_count": 7,
   "metadata": {},
   "outputs": [],
   "source": [
    "selected[\"diff_lat\"] = ds_trajectory[\"latitude\"] - selected[\"lat\"]\n",
    "selected[\"diff_lon\"] = ds_trajectory[\"longitude\"] - selected[\"lon\"]"
   ]
  },
  {
   "cell_type": "code",
   "execution_count": 8,
   "metadata": {},
   "outputs": [
    {
     "data": {
      "text/html": [
       "<pre>&lt;xarray.Dataset&gt;\n",
       "Dimensions:      (along_track: 23, time: 2920)\n",
       "Coordinates:\n",
       "    lat          (along_track) float32 75.0 72.5 70.0 67.5 ... 20.0 17.5 15.0\n",
       "    lon          (along_track) float32 200.0 205.0 212.5 ... 317.5 325.0 330.0\n",
       "  * time         (time) datetime64[ns] 2013-01-01 ... 2014-12-31T18:00:00\n",
       "    lat2d        (along_track) float32 75.0 72.5 70.0 67.5 ... 20.0 17.5 15.0\n",
       "    lon2d        (along_track) float32 200.0 205.0 212.5 ... 317.5 325.0 330.0\n",
       "  * along_track  (along_track) int64 0 1 2 3 4 5 6 7 ... 15 16 17 18 19 20 21 22\n",
       "Data variables:\n",
       "    air          (time, along_track) float32 241.2 244.7 244.4 ... 295.7 295.7\n",
       "    diff_lat     (along_track) float64 0.0 -0.2273 -0.4545 ... 0.4545 0.2273 0.0\n",
       "    diff_lon     (along_track) float64 0.0 0.9091 -0.6818 ... 0.6818 -0.9091 0.0\n",
       "Attributes:\n",
       "    Conventions:  COARDS\n",
       "    title:        4x daily NMC reanalysis (1948)\n",
       "    description:  Data is from NMC initialized reanalysis\\n(4x/day).  These a...\n",
       "    platform:     Model\n",
       "    references:   http://www.esrl.noaa.gov/psd/data/gridded/data.ncep.reanaly...</pre>"
      ],
      "text/plain": [
       "<xarray.Dataset>\n",
       "Dimensions:      (along_track: 23, time: 2920)\n",
       "Coordinates:\n",
       "    lat          (along_track) float32 75.0 72.5 70.0 67.5 ... 20.0 17.5 15.0\n",
       "    lon          (along_track) float32 200.0 205.0 212.5 ... 317.5 325.0 330.0\n",
       "  * time         (time) datetime64[ns] 2013-01-01 ... 2014-12-31T18:00:00\n",
       "    lat2d        (along_track) float32 75.0 72.5 70.0 67.5 ... 20.0 17.5 15.0\n",
       "    lon2d        (along_track) float32 200.0 205.0 212.5 ... 317.5 325.0 330.0\n",
       "  * along_track  (along_track) int64 0 1 2 3 4 5 6 7 ... 15 16 17 18 19 20 21 22\n",
       "Data variables:\n",
       "    air          (time, along_track) float32 241.2 244.7 244.4 ... 295.7 295.7\n",
       "    diff_lat     (along_track) float64 0.0 -0.2273 -0.4545 ... 0.4545 0.2273 0.0\n",
       "    diff_lon     (along_track) float64 0.0 0.9091 -0.6818 ... 0.6818 -0.9091 0.0\n",
       "Attributes:\n",
       "    Conventions:  COARDS\n",
       "    title:        4x daily NMC reanalysis (1948)\n",
       "    description:  Data is from NMC initialized reanalysis\\n(4x/day).  These a...\n",
       "    platform:     Model\n",
       "    references:   http://www.esrl.noaa.gov/psd/data/gridded/data.ncep.reanaly..."
      ]
     },
     "metadata": {},
     "output_type": "display_data"
    }
   ],
   "source": [
    "display(selected)"
   ]
  },
  {
   "cell_type": "markdown",
   "metadata": {},
   "source": [
    "## Visualize"
   ]
  },
  {
   "cell_type": "code",
   "execution_count": 9,
   "metadata": {},
   "outputs": [],
   "source": [
    "from matplotlib import pyplot as plt"
   ]
  },
  {
   "cell_type": "code",
   "execution_count": 10,
   "metadata": {},
   "outputs": [
    {
     "data": {
      "image/png": "[encoded data removed]",
      "text/plain": [
       "<Figure size 576x216 with 3 Axes>"
      ]
     },
     "metadata": {
      "needs_background": "light"
     },
     "output_type": "display_data"
    }
   ],
   "source": [
    "fig, ax = plt.subplots(1, 2, figsize=(8, 3))\n",
    "\n",
    "ds_trajectory.plot.scatter(\n",
    "    x=\"longitude\", y=\"latitude\", c=\"k\",\n",
    "    s=9, ax=ax[0], label=\"traj\"\n",
    ")\n",
    "selected.plot.scatter(\n",
    "    x=\"lon2d\", y=\"lat2d\", c=\"r\",\n",
    "    s=9, ax=ax[0], label=\"grid\"\n",
    ")\n",
    "ax[0].legend()\n",
    "ax[0].set_title(\"target and selected locations\")\n",
    "\n",
    "selected.plot.scatter(\n",
    "    x=\"diff_lon\", y=\"diff_lat\", hue=\"along_track\",\n",
    "    ax=ax[1]\n",
    ")\n",
    "ax[1].set_title(\"differences\")\n",
    "\n",
    "fig.tight_layout();"
   ]
  }
 ],
 "metadata": {
  "kernelspec": {
   "display_name": "Python 3",
   "language": "python",
   "name": "python3"
  },
  "language_info": {
   "codemirror_mode": {
    "name": "ipython",
    "version": 3
   },
   "file_extension": ".py",
   "mimetype": "text/x-python",
   "name": "python",
   "nbconvert_exporter": "python",
   "pygments_lexer": "ipython3",
   "version": "3.8.8"
  }
 },
 "nbformat": 4,
 "nbformat_minor": 4
}
