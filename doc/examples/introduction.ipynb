{
 "cells": [
  {
   "cell_type": "markdown",
   "metadata": {},
   "source": [
    "# Introduction to Xoak\n",
    "\n",
    "This notebook briefly shows how to use Xoak with Xarray's [advanced indexing](http://xarray.pydata.org/en/stable/indexing.html#more-advanced-indexing) to perform point-wise selection of irrelgularly spaced data encoded in coordinates with an arbitrary number of dimensions (1, 2, ..., n-d)."
   ]
  },
  {
   "cell_type": "code",
   "execution_count": 1,
   "metadata": {},
   "outputs": [],
   "source": [
    "import numpy as np\n",
    "import xarray as xr\n",
    "import xoak\n",
    "\n",
    "xr.set_options(display_style='text');"
   ]
  },
  {
   "cell_type": "markdown",
   "metadata": {},
   "source": [
    "Let's first create an `xarray.Dataset` of latitude / longitude points located randomly on the sphere, forming a 2-dimensional (x, y) model mesh (note that Xoak supports indexing coordinates with an arbitrary number of dimensions)."
   ]
  },
  {
   "cell_type": "code",
   "execution_count": 2,
   "metadata": {},
   "outputs": [],
   "source": [
    "shape = (100, 100)\n",
    "lat = np.random.uniform(-90, 90, size=shape)\n",
    "lon = np.random.uniform(-180, 180, size=shape)\n",
    "\n",
    "field = lat + lon"
   ]
  },
  {
   "cell_type": "code",
   "execution_count": 3,
   "metadata": {},
   "outputs": [
    {
     "data": {
      "text/html": [
       "<pre>&lt;xarray.Dataset&gt;\n",
       "Dimensions:  (x: 100, y: 100)\n",
       "Coordinates:\n",
       "    lat      (x, y) float64 -46.35 76.28 -85.01 -13.43 ... 62.3 -88.36 5.12\n",
       "    lon      (x, y) float64 -1.377 53.78 52.71 -174.7 ... -164.6 -116.2 -51.76\n",
       "Dimensions without coordinates: x, y\n",
       "Data variables:\n",
       "    field    (x, y) float64 -47.72 130.1 -32.3 -188.1 ... -102.3 -204.5 -46.64</pre>"
      ],
      "text/plain": [
       "<xarray.Dataset>\n",
       "Dimensions:  (x: 100, y: 100)\n",
       "Coordinates:\n",
       "    lat      (x, y) float64 -46.35 76.28 -85.01 -13.43 ... 62.3 -88.36 5.12\n",
       "    lon      (x, y) float64 -1.377 53.78 52.71 -174.7 ... -164.6 -116.2 -51.76\n",
       "Dimensions without coordinates: x, y\n",
       "Data variables:\n",
       "    field    (x, y) float64 -47.72 130.1 -32.3 -188.1 ... -102.3 -204.5 -46.64"
      ]
     },
     "execution_count": 3,
     "metadata": {},
     "output_type": "execute_result"
    }
   ],
   "source": [
    "ds_mesh = xr.Dataset(\n",
    "    coords={'lat': (('x', 'y'), lat), 'lon': (('x', 'y'), lon)},\n",
    "    data_vars={'field': (('x', 'y'), field)},\n",
    ")\n",
    "\n",
    "ds_mesh"
   ]
  },
  {
   "cell_type": "markdown",
   "metadata": {},
   "source": [
    "We first need to build an index to allow fast point-wise selection. Xoak supports several indexes that can be used depending on the data. Here we use the `sklearn_geo_balltree` index, a wrapper around [sklearn.BallTree](https://scikit-learn.org/stable/modules/generated/sklearn.neighbors.BallTree.html#sklearn.neighbors.BallTree) using the Haversine distance metric that is suited for indexing latitude / longitude points.\n",
    "\n",
    "With this index, it is important to specify `lat` and `lon` in this specific order. Both the `lat` and `lon` coordinates must have exactly the same dimensions in the same order, here `('x', 'y')`."
   ]
  },
  {
   "cell_type": "code",
   "execution_count": 4,
   "metadata": {},
   "outputs": [],
   "source": [
    "ds_mesh.xoak.set_index(['lat', 'lon'], 'sklearn_geo_balltree')"
   ]
  },
  {
   "cell_type": "markdown",
   "metadata": {},
   "source": [
    "Let's create another `xarray.Dataset` of latitude / longitude points that here correspond to a trajectory on the sphere."
   ]
  },
  {
   "cell_type": "code",
   "execution_count": 5,
   "metadata": {},
   "outputs": [
    {
     "data": {
      "text/html": [
       "<pre>&lt;xarray.Dataset&gt;\n",
       "Dimensions:    (trajectory: 30)\n",
       "Dimensions without coordinates: trajectory\n",
       "Data variables:\n",
       "    latitude   (trajectory) float64 -10.0 -8.276 -6.552 ... 36.55 38.28 40.0\n",
       "    longitude  (trajectory) float64 -150.0 -139.7 -129.3 ... 129.3 139.7 150.0</pre>"
      ],
      "text/plain": [
       "<xarray.Dataset>\n",
       "Dimensions:    (trajectory: 30)\n",
       "Dimensions without coordinates: trajectory\n",
       "Data variables:\n",
       "    latitude   (trajectory) float64 -10.0 -8.276 -6.552 ... 36.55 38.28 40.0\n",
       "    longitude  (trajectory) float64 -150.0 -139.7 -129.3 ... 129.3 139.7 150.0"
      ]
     },
     "execution_count": 5,
     "metadata": {},
     "output_type": "execute_result"
    }
   ],
   "source": [
    "ds_trajectory = xr.Dataset({\n",
    "    'latitude': ('trajectory', np.linspace(-10, 40, 30)),\n",
    "    'longitude': ('trajectory', np.linspace(-150, 150, 30))\n",
    "})\n",
    "\n",
    "ds_trajectory"
   ]
  },
  {
   "cell_type": "markdown",
   "metadata": {},
   "source": [
    "We can use `xarray.Dataset.xoak.sel()` to select the mesh points that are the closest to the trajectory vertices. It works very much like `xarray.Dataset.sel()` and returns another Dataset with the selection.\n",
    "\n",
    "Like for `xarray.Dataset.xoak.set_index()`, it is important here that all indexer coordinates (`latitude` and `longitude` in this example) have the exact same dimensions (here `'trajectory'`). Indexers must be given for each coordinate used to build the index above, (here `latitude` for `lat` and `longitude` for `lon`). "
   ]
  },
  {
   "cell_type": "code",
   "execution_count": 6,
   "metadata": {},
   "outputs": [
    {
     "data": {
      "text/html": [
       "<pre>&lt;xarray.Dataset&gt;\n",
       "Dimensions:  (trajectory: 30)\n",
       "Coordinates:\n",
       "    lat      (trajectory) float64 -11.46 -8.57 -6.349 ... 37.13 38.05 41.56\n",
       "    lon      (trajectory) float64 -150.6 -139.7 -129.9 ... 129.0 140.2 149.2\n",
       "Dimensions without coordinates: trajectory\n",
       "Data variables:\n",
       "    field    (trajectory) float64 -162.1 -148.3 -136.3 ... 166.2 178.2 190.8</pre>"
      ],
      "text/plain": [
       "<xarray.Dataset>\n",
       "Dimensions:  (trajectory: 30)\n",
       "Coordinates:\n",
       "    lat      (trajectory) float64 -11.46 -8.57 -6.349 ... 37.13 38.05 41.56\n",
       "    lon      (trajectory) float64 -150.6 -139.7 -129.9 ... 129.0 140.2 149.2\n",
       "Dimensions without coordinates: trajectory\n",
       "Data variables:\n",
       "    field    (trajectory) float64 -162.1 -148.3 -136.3 ... 166.2 178.2 190.8"
      ]
     },
     "execution_count": 6,
     "metadata": {},
     "output_type": "execute_result"
    }
   ],
   "source": [
    "ds_selection = ds_mesh.xoak.sel(\n",
    "    lat=ds_trajectory.latitude,\n",
    "    lon=ds_trajectory.longitude\n",
    ")\n",
    "\n",
    "ds_selection"
   ]
  },
  {
   "cell_type": "markdown",
   "metadata": {},
   "source": [
    "Let's plot the trajectory vertices (black dots) and the resulting selection (dots colored by the `field` values):"
   ]
  },
  {
   "cell_type": "code",
   "execution_count": 7,
   "metadata": {},
   "outputs": [
    {
     "data": {
      "image/png": "[encoded data removed]",
      "text/plain": [
       "<Figure size 432x288 with 2 Axes>"
      ]
     },
     "metadata": {
      "needs_background": "light"
     },
     "output_type": "display_data"
    }
   ],
   "source": [
    "ds_trajectory.plot.scatter(x='longitude', y='latitude', c='k', alpha=0.7);\n",
    "ds_selection.plot.scatter(x='lon', y='lat', hue='field', alpha=0.9);"
   ]
  },
  {
   "cell_type": "markdown",
   "metadata": {},
   "source": [
    "You can also return the distances associated with each selected point by inputting the name of the distance variable you would like used as the variable named in the returned Dataset. Note that if a DataArray was originally input, a Dataset will still be returned in this case. Distances are returned in kilometers."
   ]
  },
  {
   "cell_type": "code",
   "execution_count": 8,
   "metadata": {},
   "outputs": [
    {
     "data": {
      "text/html": [
       "<pre>&lt;xarray.Dataset&gt;\n",
       "Dimensions:   (trajectory: 30)\n",
       "Coordinates:\n",
       "    lat       (trajectory) float64 -11.46 -8.57 -6.349 ... 37.13 38.05 41.56\n",
       "    lon       (trajectory) float64 -150.6 -139.7 -129.9 ... 129.0 140.2 149.2\n",
       "Dimensions without coordinates: trajectory\n",
       "Data variables:\n",
       "    field     (trajectory) float64 -162.1 -148.3 -136.3 ... 166.2 178.2 190.8\n",
       "    distance  (trajectory) float64 176.9 33.55 71.99 198.1 ... 69.07 52.98 185.2</pre>"
      ],
      "text/plain": [
       "<xarray.Dataset>\n",
       "Dimensions:   (trajectory: 30)\n",
       "Coordinates:\n",
       "    lat       (trajectory) float64 -11.46 -8.57 -6.349 ... 37.13 38.05 41.56\n",
       "    lon       (trajectory) float64 -150.6 -139.7 -129.9 ... 129.0 140.2 149.2\n",
       "Dimensions without coordinates: trajectory\n",
       "Data variables:\n",
       "    field     (trajectory) float64 -162.1 -148.3 -136.3 ... 166.2 178.2 190.8\n",
       "    distance  (trajectory) float64 176.9 33.55 71.99 198.1 ... 69.07 52.98 185.2"
      ]
     },
     "execution_count": 8,
     "metadata": {},
     "output_type": "execute_result"
    }
   ],
   "source": [
    "ds_selection = ds_mesh.xoak.sel(\n",
    "    lat=ds_trajectory.latitude,\n",
    "    lon=ds_trajectory.longitude,\n",
    "    distances_name=\"distance\",\n",
    ")\n",
    "\n",
    "ds_selection"
   ]
  },
  {
   "cell_type": "markdown",
   "metadata": {},
   "source": [
    "Xoak also supports providing coordinates with an arbitrary number of dimensions as indexers, like in the example below with vertices of another mesh on the sphere. "
   ]
  },
  {
   "cell_type": "code",
   "execution_count": 9,
   "metadata": {},
   "outputs": [
    {
     "data": {
      "text/html": [
       "<pre>&lt;xarray.Dataset&gt;\n",
       "Dimensions:  (x: 10, y: 10)\n",
       "Coordinates:\n",
       "    lat      (x, y) float64 -26.81 52.21 54.89 81.46 ... -14.37 -6.231 56.52\n",
       "    lon      (x, y) float64 -7.988 96.58 57.14 -122.8 ... 47.32 -177.5 -79.93\n",
       "Dimensions without coordinates: x, y\n",
       "Data variables:\n",
       "    field    (x, y) float64 -34.79 148.8 112.0 -41.3 ... 32.96 -183.7 -23.41</pre>"
      ],
      "text/plain": [
       "<xarray.Dataset>\n",
       "Dimensions:  (x: 10, y: 10)\n",
       "Coordinates:\n",
       "    lat      (x, y) float64 -26.81 52.21 54.89 81.46 ... -14.37 -6.231 56.52\n",
       "    lon      (x, y) float64 -7.988 96.58 57.14 -122.8 ... 47.32 -177.5 -79.93\n",
       "Dimensions without coordinates: x, y\n",
       "Data variables:\n",
       "    field    (x, y) float64 -34.79 148.8 112.0 -41.3 ... 32.96 -183.7 -23.41"
      ]
     },
     "execution_count": 9,
     "metadata": {},
     "output_type": "execute_result"
    }
   ],
   "source": [
    "ds_mesh2 = xr.Dataset({\n",
    "    'latitude': (('x', 'y'), np.random.uniform(-90, 90, size=(10, 10))),\n",
    "    'longitude': (('x', 'y'), np.random.uniform(-180, 180, size=(10, 10)))\n",
    "})\n",
    "\n",
    "ds_selection = ds_mesh.xoak.sel(\n",
    "    lat=ds_mesh2.latitude,\n",
    "    lon=ds_mesh2.longitude\n",
    ")\n",
    "\n",
    "ds_selection"
   ]
  },
  {
   "cell_type": "code",
   "execution_count": 10,
   "metadata": {},
   "outputs": [
    {
     "data": {
      "image/png": "[encoded data removed]",
      "text/plain": [
       "<Figure size 432x288 with 3 Axes>"
      ]
     },
     "metadata": {
      "needs_background": "light"
     },
     "output_type": "display_data"
    }
   ],
   "source": [
    "ds_mesh2.plot.scatter(x='longitude', y='latitude', c='k', alpha=0.7);\n",
    "ds_selection.plot.scatter(x='lon', y='lat', hue='field', alpha=0.9);"
   ]
  }
 ],
 "metadata": {
  "kernelspec": {
   "display_name": "Python 3.9.13 ('extract_model')",
   "language": "python",
   "name": "python3"
  },
  "language_info": {
   "codemirror_mode": {
    "name": "ipython",
    "version": 3
   },
   "file_extension": ".py",
   "mimetype": "text/x-python",
   "name": "python",
   "nbconvert_exporter": "python",
   "pygments_lexer": "ipython3",
   "version": "3.9.13"
  },
  "vscode": {
   "interpreter": {
    "hash": "8838a114cb9af02008a6426a5905618667030dfe4375f4e8b79cae9729b737db"
   }
  }
 },
 "nbformat": 4,
 "nbformat_minor": 4
}
